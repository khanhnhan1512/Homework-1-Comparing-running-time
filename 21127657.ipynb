{
 "cells": [
  {
   "cell_type": "markdown",
   "metadata": {},
   "source": [
    "# <center>Homework: Comparing the running time between C++, Python and Numpy </center>\n",
    "`Name`: Nguyen Khanh Nhan <br>\n",
    "`Student ID`: 21127657 <br>\n",
    "`Class`: 21KHDL1\n"
   ]
  },
  {
   "cell_type": "markdown",
   "metadata": {},
   "source": [
    "---"
   ]
  },
  {
   "cell_type": "markdown",
   "metadata": {},
   "source": [
    "## Contents\n",
    "* [1. Introduction](#c1)\n",
    "* [2. The structure of the program](#c2)\n",
    "* [3. The running time of mutiplying 2 matrices](#c3)\n",
    "    * [3.1. The running time of C++](#c31)\n",
    "    * [3.2. The running time of Python](#c32)\n",
    "    * [3.3. The running time of Numpy](#c33)\n",
    "* [4. Visualizing the results](#c4)\n",
    "* [5. Conclusion](#c5)\n",
    "---"
   ]
  },
  {
   "cell_type": "markdown",
   "metadata": {},
   "source": [
    "# 1. Introduction <a class=\"anchor\" id=\"c1\"></a>\n",
    "- In this lab, we will compare the running time of mutiplying two square matrices between C++, Python and Numpy.\n",
    "- We will test with **7** different sizes of matrices: `10x10, 100x100, 250x250, 500x500, 750x750, 1000x1000 and 2000x2000`.\n"
   ]
  },
  {
   "cell_type": "markdown",
   "metadata": {},
   "source": [
    "# 2. The structure of the program <a class=\"anchor\" id=\"c2\"></a>\n",
    "- The program will be divided into many files and folders: \n",
    "    - Folder `Matrix Folder`: this folder contains all the matrix files. Each file will contain the values of a matrix with a specific size. ***E.g***: `matrix_A_10.txt` will contain the values of a 10x10 matrix.\n",
    "    - Folder `Time`: contains the files that record the running time of `C++`, `python` and `numpy`. Each line of the file will contain the running time of mutiplying 2 specific size of matrices. ***E.g***: `C++.txt` will contain the running time of `C++` with 7 different sizes of matrices.\n",
    "    - File `21127657.cpp`: the source code of the program written in `C++`. It will read the matrices from the `Matrix Folder`, mutiply 2 matrices and measure the running time. Finally, write the running time to the `Time` folder.\n",
    "    - File `21127657.exe`: the executable file of the `21127657.cpp` file.\n",
    "    - File `21127657.py`: the source code of the program written in `python`. It will read the matrices from the `Matrix Folder`, mutiply 2 matrices and measure the running time. Finally, write the running time to the `Time` folder.\n",
    "    - File `21127657.ipynb`: The report of this homework. It also use `Numpy` to mutiply 2 matrices and measure the running time.\n"
   ]
  },
  {
   "cell_type": "markdown",
   "metadata": {},
   "source": [
    "# 3. The running time of mutiplying 2 matrices <a class=\"anchor\" id=\"c3\"></a>\n",
    "## 3.1. The running time of C++ <a class=\"anchor\" id=\"c31\"></a>"
   ]
  },
  {
   "cell_type": "code",
   "execution_count": 2,
   "metadata": {},
   "outputs": [
    {
     "name": "stdout",
     "output_type": "stream",
     "text": [
      "Time taken to multiply two 10 x 10 matrices: 0 miliseconds\n",
      "Time taken to multiply two 100 x 100 matrices: 11 miliseconds\n",
      "Time taken to multiply two 250 x 250 matrices: 176 miliseconds\n",
      "Time taken to multiply two 500 x 500 matrices: 1577 miliseconds\n",
      "Time taken to multiply two 750 x 750 matrices: 6580 miliseconds\n",
      "Time taken to multiply two 1000 x 1000 matrices: 15763 miliseconds\n",
      "Time taken to multiply two 2000 x 2000 matrices: 166539 miliseconds\n"
     ]
    }
   ],
   "source": [
    "# Executing the code in c++ file \n",
    "!21127657.exe"
   ]
  },
  {
   "cell_type": "markdown",
   "metadata": {},
   "source": [
    "## 3.2. The running time of Python <a class=\"anchor\" id=\"c32\"></a>"
   ]
  },
  {
   "cell_type": "code",
   "execution_count": 3,
   "metadata": {},
   "outputs": [
    {
     "name": "stdout",
     "output_type": "stream",
     "text": [
      "Time taken to mutiply 2 matrices size 10x10: 0 ms\n",
      "Time taken to mutiply 2 matrices size 100x100: 89 ms\n",
      "Time taken to mutiply 2 matrices size 250x250: 1149 ms\n",
      "Time taken to mutiply 2 matrices size 500x500: 10104 ms\n",
      "Time taken to mutiply 2 matrices size 750x750: 34178 ms\n",
      "Time taken to mutiply 2 matrices size 1000x1000: 105123 ms\n",
      "Time taken to mutiply 2 matrices size 2000x2000: 732968 ms\n"
     ]
    }
   ],
   "source": [
    "# Executing the code in python file\n",
    "%run 21127657.py"
   ]
  },
  {
   "cell_type": "markdown",
   "metadata": {},
   "source": [
    "## 3.3. The running time of Numpy <a class=\"anchor\" id=\"c33\"></a>"
   ]
  },
  {
   "cell_type": "markdown",
   "metadata": {},
   "source": [
    "### Importing Numpy library"
   ]
  },
  {
   "cell_type": "code",
   "execution_count": 4,
   "metadata": {},
   "outputs": [],
   "source": [
    "import numpy as np\n",
    "import time"
   ]
  },
  {
   "cell_type": "markdown",
   "metadata": {},
   "source": [
    "### Loading the matrices"
   ]
  },
  {
   "cell_type": "code",
   "execution_count": 5,
   "metadata": {},
   "outputs": [],
   "source": [
    "def read_matrix(filename):\n",
    "    matrix = []\n",
    "    with open(filename) as f:\n",
    "        rows = f.readlines()\n",
    "        for row in rows:\n",
    "            matrix.append([int(x) for x in row.split()])\n",
    "    return matrix"
   ]
  },
  {
   "cell_type": "markdown",
   "metadata": {},
   "source": [
    "### Mutiplying 2 matrices"
   ]
  },
  {
   "cell_type": "code",
   "execution_count": 6,
   "metadata": {},
   "outputs": [],
   "source": [
    "def multiply_matrices(A, B):\n",
    "    A = np.array(A)\n",
    "    B = np.array(B)\n",
    "    return np.matmul(A, B)"
   ]
  },
  {
   "cell_type": "markdown",
   "metadata": {},
   "source": [
    "### Executing and saving the running time"
   ]
  },
  {
   "cell_type": "code",
   "execution_count": 7,
   "metadata": {},
   "outputs": [
    {
     "name": "stdout",
     "output_type": "stream",
     "text": [
      "Time taken for 10x10 matrix multiplication: 3 ms\n",
      "Time taken for 100x100 matrix multiplication: 1 ms\n",
      "Time taken for 250x250 matrix multiplication: 10 ms\n",
      "Time taken for 500x500 matrix multiplication: 79 ms\n",
      "Time taken for 750x750 matrix multiplication: 337 ms\n",
      "Time taken for 1000x1000 matrix multiplication: 895 ms\n",
      "Time taken for 2000x2000 matrix multiplication: 22234 ms\n"
     ]
    }
   ],
   "source": [
    "matrix_size = [10, 100, 250, 500, 750, 1000, 2000]\n",
    "with open('Time/numpy.txt', 'w') as f:\n",
    "    for size in matrix_size:\n",
    "        matrixA = np.array(read_matrix(f\"Matrix Folder/matrix_A_{size}.txt\"))\n",
    "        matrixB = np.array(read_matrix(f\"Matrix Folder/matrix_B_{size}.txt\"))\n",
    "        start = time.time()\n",
    "        result = multiply_matrices(matrixA, matrixB)\n",
    "        end = time.time()\n",
    "        running_time = int((end - start)*1000)\n",
    "        print(f\"Time taken for {size}x{size} matrix multiplication: {running_time} ms\")\n",
    "        f.write(f\"{running_time}\\n\")\n",
    "f.close()\n",
    "    "
   ]
  },
  {
   "cell_type": "markdown",
   "metadata": {},
   "source": [
    "# 4. Visualizing the results <a class=\"anchor\" id=\"c4\"></a>"
   ]
  },
  {
   "cell_type": "markdown",
   "metadata": {},
   "source": [
    "### Importing the library"
   ]
  },
  {
   "cell_type": "code",
   "execution_count": 8,
   "metadata": {},
   "outputs": [],
   "source": [
    "import matplotlib.pyplot as plt"
   ]
  },
  {
   "cell_type": "markdown",
   "metadata": {},
   "source": [
    "### Load the running time"
   ]
  },
  {
   "cell_type": "code",
   "execution_count": 9,
   "metadata": {},
   "outputs": [],
   "source": [
    "def load_rt(filename):\n",
    "    result = []\n",
    "    with open(filename) as f:\n",
    "        lines = f.readlines()\n",
    "        for line in lines:\n",
    "            result.append(int(line))\n",
    "    return result"
   ]
  },
  {
   "cell_type": "code",
   "execution_count": 10,
   "metadata": {},
   "outputs": [],
   "source": [
    "matrix_size = [10, 100, 250, 500, 750, 1000, 2000]\n",
    "c_plus_plus = load_rt('Time/c++.txt')\n",
    "python = load_rt('Time/python.txt')\n",
    "numpy = load_rt('Time/numpy.txt')"
   ]
  },
  {
   "cell_type": "markdown",
   "metadata": {},
   "source": [
    "### Plotting the results"
   ]
  },
  {
   "cell_type": "code",
   "execution_count": 17,
   "metadata": {},
   "outputs": [
    {
     "data": {
      "image/png": "[encoded data removed]",
      "text/plain": [
       "<Figure size 640x480 with 1 Axes>"
      ]
     },
     "metadata": {},
     "output_type": "display_data"
    }
   ],
   "source": [
    "# plot\n",
    "plt.plot(matrix_size, c_plus_plus, label='C++')\n",
    "plt.plot(matrix_size, python, label='Python')\n",
    "plt.plot(matrix_size, numpy, label='Numpy')\n",
    "# scatter\n",
    "plt.scatter(matrix_size, c_plus_plus, color='blue', marker='x')\n",
    "plt.scatter(matrix_size, python, color='orange', marker='x')\n",
    "plt.scatter(matrix_size, numpy, color='green', marker='x')\n",
    "# customize\n",
    "plt.xticks(matrix_size)\n",
    "plt.xlim(min(matrix_size), max(matrix_size)+100)\n",
    "plt.xlabel('Matrix Size')\n",
    "plt.ylabel('Running Time (ms)')\n",
    "plt.title('Running Time Comparison')\n",
    "# finish\n",
    "plt.legend()\n",
    "plt.show()"
   ]
  },
  {
   "cell_type": "markdown",
   "metadata": {},
   "source": [
    "# 5. Conclusion <a class=\"anchor\" id=\"c5\"></a>\n",
    "- The running time of `numpy` is the fastest, followed by `C++` and `Python`.\n",
    "- The running time of `numpy` is the fastest because it is written in `C++` and `Fortran` and it is optimized for scientific computing.\n",
    "- The running time of `C++` is faster than `Python` because `C++` is a compiled language while `Python` is an interpreted language.\n",
    "---"
   ]
  },
  {
   "cell_type": "markdown",
   "metadata": {},
   "source": [
    "# <center>END</center>"
   ]
  }
 ],
 "metadata": {
  "kernelspec": {
   "display_name": "Python 3",
   "language": "python",
   "name": "python3"
  },
  "language_info": {
   "codemirror_mode": {
    "name": "ipython",
    "version": 3
   },
   "file_extension": ".py",
   "mimetype": "text/x-python",
   "name": "python",
   "nbconvert_exporter": "python",
   "pygments_lexer": "ipython3",
   "version": "3.11.1"
  }
 },
 "nbformat": 4,
 "nbformat_minor": 2
}
