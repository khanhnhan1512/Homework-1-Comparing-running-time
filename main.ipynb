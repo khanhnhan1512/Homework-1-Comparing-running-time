{
 "cells": [
  {
   "cell_type": "markdown",
   "metadata": {},
   "source": [
    "# Homework: Comparing the running time between C++ and Python"
   ]
  },
  {
   "cell_type": "code",
   "execution_count": 1,
   "metadata": {},
   "outputs": [
    {
     "name": "stdout",
     "output_type": "stream",
     "text": [
      "CPU times: total: 0 ns\n",
      "Wall time: 40 ms\n"
     ]
    }
   ],
   "source": [
    "%%time\n",
    "!randomize_matrix.exe"
   ]
  },
  {
   "cell_type": "code",
   "execution_count": 1,
   "metadata": {},
   "outputs": [
    {
     "name": "stdout",
     "output_type": "stream",
     "text": [
      "Time taken to multiply two 10 x 10 matrices: 0 miliseconds\n",
      "Time taken to multiply two 50 x 50 matrices: 2 miliseconds\n",
      "Time taken to multiply two 100 x 100 matrices: 12 miliseconds\n",
      "Time taken to multiply two 250 x 250 matrices: 179 miliseconds\n",
      "Time taken to multiply two 500 x 500 matrices: 1493 miliseconds\n",
      "Time taken to multiply two 750 x 750 matrices: 5812 miliseconds\n",
      "Time taken to multiply two 1000 x 1000 matrices: 14292 miliseconds\n"
     ]
    }
   ],
   "source": [
    "!main.exe"
   ]
  }
 ],
 "metadata": {
  "kernelspec": {
   "display_name": "Python 3",
   "language": "python",
   "name": "python3"
  },
  "language_info": {
   "codemirror_mode": {
    "name": "ipython",
    "version": 3
   },
   "file_extension": ".py",
   "mimetype": "text/x-python",
   "name": "python",
   "nbconvert_exporter": "python",
   "pygments_lexer": "ipython3",
   "version": "3.11.1"
  }
 },
 "nbformat": 4,
 "nbformat_minor": 2
}
